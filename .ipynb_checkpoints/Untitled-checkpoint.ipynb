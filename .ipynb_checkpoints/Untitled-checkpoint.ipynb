{
 "cells": [
  {
   "cell_type": "code",
   "execution_count": 28,
   "metadata": {},
   "outputs": [],
   "source": [
    "import os.path\n",
    "from os import path"
   ]
  },
  {
   "cell_type": "code",
   "execution_count": 38,
   "metadata": {},
   "outputs": [
    {
     "ename": "SyntaxError",
     "evalue": "unexpected character after line continuation character (<ipython-input-38-3929bfb4368e>, line 2)",
     "output_type": "error",
     "traceback": [
      "\u001b[1;36m  File \u001b[1;32m\"<ipython-input-38-3929bfb4368e>\"\u001b[1;36m, line \u001b[1;32m2\u001b[0m\n\u001b[1;33m    if(path.exists(r\"C:\\Users\\sai\\Desktop\\Register-Monikers\\\"+ project_name + \"\\\"+ moniker)):\u001b[0m\n\u001b[1;37m                                                                                             ^\u001b[0m\n\u001b[1;31mSyntaxError\u001b[0m\u001b[1;31m:\u001b[0m unexpected character after line continuation character\n"
     ]
    }
   ],
   "source": [
    "def foo(moniker , query , project_name):\n",
    "    if(path.exists(r\"C:\\Users\\sai\\Desktop\\Register-Monikers\\\"+ project_name + \"\\\"+ moniker)):\n",
    "        f = open(r\"C:\\Users\\sai\\Desktop\\Register-Monikers\\\"+ project_name + \"\\\"+ moniker, \"w\")\n",
    "        f.write(\"This is a query : {yoyoyoyo}\")\n",
    "        f.close()\n",
    "\n",
    "    else\n",
    "                 \n",
    "                            f = open(r\"C:\\Users\\sai\\Desktop\\Register-Monikers\\\"+ project_name + \"\\\"+ moniker , \"x\")\n",
    "                            f = openr\"C:\\Users\\sai\\Desktop\\Register-Monikers\\\"+ project_name + \"\\\"+ moniker, \"a\")\n",
    "                            f.write(\"This is a query : {warm cool hot haha}\")\n",
    "                            f.close()"
   ]
  },
  {
   "cell_type": "code",
   "execution_count": 29,
   "metadata": {},
   "outputs": [],
   "source": [
    "def foo(moniker , query , project_name):\n",
    "    \n",
    "                            "
   ]
  },
  {
   "cell_type": "code",
   "execution_count": 30,
   "metadata": {},
   "outputs": [],
   "source": [
    "import git\n",
    "from git import Repo\n",
    "from dulwich import porcelain"
   ]
  },
  {
   "cell_type": "code",
   "execution_count": 31,
   "metadata": {},
   "outputs": [],
   "source": [
    "repo = Repo(r\"C:\\Users\\sai\\Desktop\\Register-Monikers\")"
   ]
  },
  {
   "cell_type": "code",
   "execution_count": 32,
   "metadata": {},
   "outputs": [
    {
     "data": {
      "text/plain": [
       "''"
      ]
     },
     "execution_count": 32,
     "metadata": {},
     "output_type": "execute_result"
    }
   ],
   "source": [
    "repo.git.add(\"project-1\")"
   ]
  },
  {
   "cell_type": "code",
   "execution_count": 33,
   "metadata": {},
   "outputs": [
    {
     "data": {
      "text/plain": [
       "'[master a0a6c46] mon registered in correct place\\n 1 file changed, 1 insertion(+), 1 deletion(-)'"
      ]
     },
     "execution_count": 33,
     "metadata": {},
     "output_type": "execute_result"
    }
   ],
   "source": [
    "repo.git.commit(m = \"mon registered in correct place\")"
   ]
  },
  {
   "cell_type": "code",
   "execution_count": 34,
   "metadata": {},
   "outputs": [
    {
     "data": {
      "text/plain": [
       "''"
      ]
     },
     "execution_count": 34,
     "metadata": {},
     "output_type": "execute_result"
    }
   ],
   "source": [
    "repo.git.push('origin' , 'master')"
   ]
  },
  {
   "cell_type": "code",
   "execution_count": 60,
   "metadata": {},
   "outputs": [],
   "source": [
    "def foo(moniker , query , project_name):\n",
    "    if(path.exists(r\".\\%s\\%s\" % (project_name , moniker))):\n",
    "        f = open(r\".\\%s\\%s\" % (project_name , moniker), \"w\")\n",
    "        f.write(query)\n",
    "        f.close()\n",
    "    \n",
    "    else:\n",
    "        f = open(r\".\\%s\\%s\" % (project_name , moniker) , \"x\")\n",
    "        f = open(r\".\\%s\\%s\" % (project_name , moniker), \"a\")\n",
    "        f.write(query)\n",
    "        f.close()"
   ]
  },
  {
   "cell_type": "code",
   "execution_count": 74,
   "metadata": {},
   "outputs": [],
   "source": [
    "query = \"This is a brand new query : {warm cool hot haha tada tada branch}\""
   ]
  },
  {
   "cell_type": "code",
   "execution_count": 75,
   "metadata": {},
   "outputs": [],
   "source": [
    "foo(\"yash18.json\" , query , \"project-2\")"
   ]
  },
  {
   "cell_type": "code",
   "execution_count": 76,
   "metadata": {},
   "outputs": [],
   "source": [
    "repo = Repo()"
   ]
  },
  {
   "cell_type": "code",
   "execution_count": 81,
   "metadata": {},
   "outputs": [
    {
     "data": {
      "text/plain": [
       "''"
      ]
     },
     "execution_count": 81,
     "metadata": {},
     "output_type": "execute_result"
    }
   ],
   "source": [
    "repo.git.add(\"project-2\")"
   ]
  },
  {
   "cell_type": "code",
   "execution_count": 82,
   "metadata": {},
   "outputs": [
    {
     "data": {
      "text/plain": [
       "'[master b06ccde] mon registered in correct place part and replaced in a cool way in pro-3 branch\\n 1 file changed, 1 insertion(+)\\n create mode 100644 project-2/yash18.json'"
      ]
     },
     "execution_count": 82,
     "metadata": {},
     "output_type": "execute_result"
    }
   ],
   "source": [
    "repo.git.commit(m = \"mon registered in correct place part and replaced in a cool way in pro-3 branch\")"
   ]
  },
  {
   "cell_type": "code",
   "execution_count": 73,
   "metadata": {},
   "outputs": [
    {
     "data": {
      "text/plain": [
       "''"
      ]
     },
     "execution_count": 73,
     "metadata": {},
     "output_type": "execute_result"
    }
   ],
   "source": [
    "repo.git.push('origin' , 'feature-branch')"
   ]
  },
  {
   "cell_type": "code",
   "execution_count": null,
   "metadata": {},
   "outputs": [],
   "source": []
  }
 ],
 "metadata": {
  "kernelspec": {
   "display_name": "Python 3",
   "language": "python",
   "name": "python3"
  },
  "language_info": {
   "codemirror_mode": {
    "name": "ipython",
    "version": 3
   },
   "file_extension": ".py",
   "mimetype": "text/x-python",
   "name": "python",
   "nbconvert_exporter": "python",
   "pygments_lexer": "ipython3",
   "version": "3.7.1"
  }
 },
 "nbformat": 4,
 "nbformat_minor": 2
}
